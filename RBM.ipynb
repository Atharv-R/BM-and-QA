{
 "cells": [
  {
   "cell_type": "code",
   "execution_count": 50,
   "id": "e7f8efa8-7dfe-4b2a-9678-65b1d8881029",
   "metadata": {},
   "outputs": [],
   "source": [
    "import numpy as np\n",
    "import matplotlib.pyplot as plt\n",
    "from sklearn.datasets import fetch_openml\n",
    "from sklearn.neural_network import BernoulliRBM\n",
    "from sklearn.preprocessing import MinMaxScaler\n",
    "from sklearn.model_selection import train_test_split\n",
    "import time\n",
    "import torchvision.transforms as transforms\n",
    "from sklearn.datasets import fetch_openml\n",
    "import numpy as np\n",
    "import torch\n",
    "from PIL import Image"
   ]
  },
  {
   "cell_type": "code",
   "execution_count": 53,
   "id": "db4c81e8-4262-4961-9a94-d1477c6ae33b",
   "metadata": {},
   "outputs": [],
   "source": [
    "# Load MNIST\n",
    "mnist = fetch_openml('mnist_784', version=1, as_frame=False, parser='auto')\n",
    "X,y = mnist.data, mnist.target.astype(int)"
   ]
  },
  {
   "cell_type": "code",
   "execution_count": 5,
   "id": "a6109b0d-2090-4793-8f7a-f02f599ade0e",
   "metadata": {},
   "outputs": [
    {
     "data": {
      "text/plain": [
       "array([5, 0, 4, ..., 4, 5, 6], shape=(70000,))"
      ]
     },
     "execution_count": 5,
     "metadata": {},
     "output_type": "execute_result"
    }
   ],
   "source": [
    "y"
   ]
  },
  {
   "cell_type": "code",
   "execution_count": null,
   "id": "657d3533-1303-4b46-af7f-64f4a86929e3",
   "metadata": {},
   "outputs": [
    {
     "name": "stdout",
     "output_type": "stream",
     "text": [
      "Org MNIST size: 70000 samples\n",
      "Filtered: 14780 samples\n",
      "Number of 0s: 6903\n",
      "Number of 1s: 7877\n"
     ]
    }
   ],
   "source": [
    "# filtering only for 0s and 1s\n",
    "mask = (y==0) | (y==1)\n",
    "X_binary = X[mask]\n",
    "y_binary = y[mask]\n",
    "\n",
    "print(f\"Org MNIST size: {X.shape[0]} samples\")\n",
    "print(f\"Filtered: {X_binary.shape[0]} samples\")\n",
    "print(f\"Number of 0s: {np.sum(y_binary == 0)}\")\n",
    "print(f\"Number of 1s: {np.sum(y_binary == 1)}\")"
   ]
  },
  {
   "cell_type": "code",
   "execution_count": 56,
   "id": "a1d1050a-5826-40da-b14e-c142832a7c73",
   "metadata": {},
   "outputs": [],
   "source": [
    "# normalization to [0,1]\n",
    "scaler = MinMaxScaler()\n",
    "X_scaled = scaler.fit_transform(X_binary)"
   ]
  },
  {
   "cell_type": "code",
   "execution_count": 57,
   "id": "f083d77b-b0c4-4fab-bacc-c9aefc572a2b",
   "metadata": {},
   "outputs": [],
   "source": [
    "# thresholding on 0.5 to convert to 0 or 1\n",
    "X_binarized = (X_scaled > 0.5).astype(np.float32)"
   ]
  },
  {
   "cell_type": "code",
   "execution_count": 58,
   "id": "c392fff2-f5ac-4036-9bc6-597458250d26",
   "metadata": {},
   "outputs": [
    {
     "data": {
      "text/plain": [
       "array([[1., 1., 0., ..., 0., 0., 0.],\n",
       "       [0., 1., 0., ..., 0., 1., 1.],\n",
       "       [0., 1., 1., ..., 0., 1., 1.],\n",
       "       ...,\n",
       "       [0., 1., 1., ..., 1., 0., 1.],\n",
       "       [1., 1., 0., ..., 0., 0., 1.],\n",
       "       [0., 1., 0., ..., 0., 0., 0.]], shape=(14780, 144), dtype=float32)"
      ]
     },
     "execution_count": 58,
     "metadata": {},
     "output_type": "execute_result"
    }
   ],
   "source": [
    "# w/o normalization pseudolikelihood is huge\n",
    "X_binarized"
   ]
  },
  {
   "cell_type": "code",
   "execution_count": 59,
   "id": "5411bc63-0854-4192-b88e-cf0f22d5d9ea",
   "metadata": {},
   "outputs": [],
   "source": [
    "#Split dataset\n",
    "X_train, X_test, y_train, y_test = train_test_split(X_binarized, y_binary, test_size=0.2, random_state=42, stratify=y_binary)"
   ]
  },
  {
   "cell_type": "code",
   "execution_count": 60,
   "id": "ea336f7d-ea1d-4506-9f11-e6639d865049",
   "metadata": {},
   "outputs": [
    {
     "name": "stdout",
     "output_type": "stream",
     "text": [
      "Training set size: 11824\n",
      "Test set size: 2956\n"
     ]
    }
   ],
   "source": [
    "print(f\"Training set size: {X_train.shape[0]}\")\n",
    "print(f\"Test set size: {X_test.shape[0]}\")"
   ]
  },
  {
   "cell_type": "code",
   "execution_count": 41,
   "id": "e91846f9-01a1-4080-b6de-f90b8a890a66",
   "metadata": {},
   "outputs": [],
   "source": [
    "# initialize BernoulliRBM\n",
    "rbm = BernoulliRBM(n_components = 20, learning_rate = 0.01, batch_size=16, n_iter=150, verbose=1,random_state=42)\n",
    "\n",
    "# Parameters are estimated using SML (Persistent CD). Time Complexity: O(n**2)\n",
    "# n_components: int, def=256 Number of binary hidden units\n",
    "# learning_rate: float, def =0.1 (tune this --> [1,0.001]\n",
    "# batch_size: int, def = 10 Number of exapmles per minibatch\n",
    "# n_iter: int, def=10 Number of iter over the training dataset\n",
    "# verbose: int, def=0 0 is silent mode --> [0, inf)\n",
    "# random_state: int, def=None RNG for Gibbs sampling from hidden and visible layers, sampling from layers or corrupting the data"
   ]
  },
  {
   "cell_type": "code",
   "execution_count": 43,
   "id": "8c1dd93f-1828-47e5-bd6f-24f141f3e5aa",
   "metadata": {
    "scrolled": true
   },
   "outputs": [
    {
     "name": "stdout",
     "output_type": "stream",
     "text": [
      "[BernoulliRBM] Iteration 1, pseudo-likelihood = -233.91, time = 0.40s\n",
      "[BernoulliRBM] Iteration 2, pseudo-likelihood = -191.41, time = 0.33s\n",
      "[BernoulliRBM] Iteration 3, pseudo-likelihood = -189.54, time = 0.34s\n",
      "[BernoulliRBM] Iteration 4, pseudo-likelihood = -189.43, time = 0.33s\n",
      "[BernoulliRBM] Iteration 5, pseudo-likelihood = -189.26, time = 0.32s\n",
      "[BernoulliRBM] Iteration 6, pseudo-likelihood = -188.98, time = 0.34s\n",
      "[BernoulliRBM] Iteration 7, pseudo-likelihood = -189.42, time = 0.31s\n",
      "[BernoulliRBM] Iteration 8, pseudo-likelihood = -189.07, time = 0.35s\n",
      "[BernoulliRBM] Iteration 9, pseudo-likelihood = -189.22, time = 0.34s\n",
      "[BernoulliRBM] Iteration 10, pseudo-likelihood = -189.29, time = 0.35s\n",
      "[BernoulliRBM] Iteration 11, pseudo-likelihood = -189.22, time = 0.34s\n",
      "[BernoulliRBM] Iteration 12, pseudo-likelihood = -189.16, time = 0.39s\n",
      "[BernoulliRBM] Iteration 13, pseudo-likelihood = -189.00, time = 0.42s\n",
      "[BernoulliRBM] Iteration 14, pseudo-likelihood = -188.94, time = 0.46s\n",
      "[BernoulliRBM] Iteration 15, pseudo-likelihood = -188.90, time = 0.35s\n",
      "[BernoulliRBM] Iteration 16, pseudo-likelihood = -189.13, time = 0.33s\n",
      "[BernoulliRBM] Iteration 17, pseudo-likelihood = -188.77, time = 0.35s\n",
      "[BernoulliRBM] Iteration 18, pseudo-likelihood = -189.10, time = 0.35s\n",
      "[BernoulliRBM] Iteration 19, pseudo-likelihood = -188.85, time = 0.35s\n",
      "[BernoulliRBM] Iteration 20, pseudo-likelihood = -189.01, time = 0.37s\n",
      "[BernoulliRBM] Iteration 21, pseudo-likelihood = -189.21, time = 0.35s\n",
      "[BernoulliRBM] Iteration 22, pseudo-likelihood = -189.24, time = 0.37s\n",
      "[BernoulliRBM] Iteration 23, pseudo-likelihood = -188.87, time = 0.39s\n",
      "[BernoulliRBM] Iteration 24, pseudo-likelihood = -188.86, time = 0.38s\n",
      "[BernoulliRBM] Iteration 25, pseudo-likelihood = -189.03, time = 0.35s\n",
      "[BernoulliRBM] Iteration 26, pseudo-likelihood = -189.00, time = 0.37s\n",
      "[BernoulliRBM] Iteration 27, pseudo-likelihood = -188.91, time = 0.37s\n",
      "[BernoulliRBM] Iteration 28, pseudo-likelihood = -188.70, time = 0.41s\n",
      "[BernoulliRBM] Iteration 29, pseudo-likelihood = -180.87, time = 0.39s\n",
      "[BernoulliRBM] Iteration 30, pseudo-likelihood = -163.75, time = 0.39s\n",
      "[BernoulliRBM] Iteration 31, pseudo-likelihood = -159.09, time = 0.41s\n",
      "[BernoulliRBM] Iteration 32, pseudo-likelihood = -155.35, time = 0.39s\n",
      "[BernoulliRBM] Iteration 33, pseudo-likelihood = -154.12, time = 0.37s\n",
      "[BernoulliRBM] Iteration 34, pseudo-likelihood = -153.41, time = 0.35s\n",
      "[BernoulliRBM] Iteration 35, pseudo-likelihood = -152.99, time = 0.35s\n",
      "[BernoulliRBM] Iteration 36, pseudo-likelihood = -153.21, time = 0.36s\n",
      "[BernoulliRBM] Iteration 37, pseudo-likelihood = -153.09, time = 0.35s\n",
      "[BernoulliRBM] Iteration 38, pseudo-likelihood = -153.42, time = 0.33s\n",
      "[BernoulliRBM] Iteration 39, pseudo-likelihood = -153.65, time = 0.38s\n",
      "[BernoulliRBM] Iteration 40, pseudo-likelihood = -154.01, time = 0.36s\n",
      "[BernoulliRBM] Iteration 41, pseudo-likelihood = -154.40, time = 0.37s\n",
      "[BernoulliRBM] Iteration 42, pseudo-likelihood = -154.57, time = 0.37s\n",
      "[BernoulliRBM] Iteration 43, pseudo-likelihood = -154.83, time = 0.36s\n",
      "[BernoulliRBM] Iteration 44, pseudo-likelihood = -154.94, time = 0.37s\n",
      "[BernoulliRBM] Iteration 45, pseudo-likelihood = -155.53, time = 0.34s\n",
      "[BernoulliRBM] Iteration 46, pseudo-likelihood = -153.33, time = 0.36s\n",
      "[BernoulliRBM] Iteration 47, pseudo-likelihood = -150.97, time = 0.36s\n",
      "[BernoulliRBM] Iteration 48, pseudo-likelihood = -150.06, time = 0.36s\n",
      "[BernoulliRBM] Iteration 49, pseudo-likelihood = -149.22, time = 0.35s\n",
      "[BernoulliRBM] Iteration 50, pseudo-likelihood = -147.40, time = 0.37s\n",
      "[BernoulliRBM] Iteration 51, pseudo-likelihood = -146.28, time = 0.36s\n",
      "[BernoulliRBM] Iteration 52, pseudo-likelihood = -144.61, time = 0.37s\n",
      "[BernoulliRBM] Iteration 53, pseudo-likelihood = -137.79, time = 0.37s\n",
      "[BernoulliRBM] Iteration 54, pseudo-likelihood = -133.94, time = 0.37s\n",
      "[BernoulliRBM] Iteration 55, pseudo-likelihood = -130.58, time = 0.34s\n",
      "[BernoulliRBM] Iteration 56, pseudo-likelihood = -128.03, time = 0.35s\n",
      "[BernoulliRBM] Iteration 57, pseudo-likelihood = -124.26, time = 0.36s\n",
      "[BernoulliRBM] Iteration 58, pseudo-likelihood = -120.15, time = 0.35s\n",
      "[BernoulliRBM] Iteration 59, pseudo-likelihood = -117.59, time = 0.35s\n",
      "[BernoulliRBM] Iteration 60, pseudo-likelihood = -116.24, time = 0.34s\n",
      "[BernoulliRBM] Iteration 61, pseudo-likelihood = -113.90, time = 0.33s\n",
      "[BernoulliRBM] Iteration 62, pseudo-likelihood = -112.45, time = 0.33s\n",
      "[BernoulliRBM] Iteration 63, pseudo-likelihood = -110.08, time = 0.35s\n",
      "[BernoulliRBM] Iteration 64, pseudo-likelihood = -109.37, time = 0.34s\n",
      "[BernoulliRBM] Iteration 65, pseudo-likelihood = -106.43, time = 0.35s\n",
      "[BernoulliRBM] Iteration 66, pseudo-likelihood = -104.23, time = 0.34s\n",
      "[BernoulliRBM] Iteration 67, pseudo-likelihood = -103.87, time = 0.35s\n",
      "[BernoulliRBM] Iteration 68, pseudo-likelihood = -102.30, time = 0.36s\n",
      "[BernoulliRBM] Iteration 69, pseudo-likelihood = -102.06, time = 0.34s\n",
      "[BernoulliRBM] Iteration 70, pseudo-likelihood = -101.19, time = 0.38s\n",
      "[BernoulliRBM] Iteration 71, pseudo-likelihood = -100.97, time = 0.36s\n",
      "[BernoulliRBM] Iteration 72, pseudo-likelihood = -100.60, time = 0.49s\n",
      "[BernoulliRBM] Iteration 73, pseudo-likelihood = -99.64, time = 0.42s\n",
      "[BernoulliRBM] Iteration 74, pseudo-likelihood = -98.55, time = 0.39s\n",
      "[BernoulliRBM] Iteration 75, pseudo-likelihood = -99.05, time = 0.42s\n",
      "[BernoulliRBM] Iteration 76, pseudo-likelihood = -97.90, time = 0.41s\n",
      "[BernoulliRBM] Iteration 77, pseudo-likelihood = -97.00, time = 0.41s\n",
      "[BernoulliRBM] Iteration 78, pseudo-likelihood = -96.45, time = 0.40s\n",
      "[BernoulliRBM] Iteration 79, pseudo-likelihood = -96.61, time = 0.42s\n",
      "[BernoulliRBM] Iteration 80, pseudo-likelihood = -97.07, time = 0.36s\n",
      "[BernoulliRBM] Iteration 81, pseudo-likelihood = -96.42, time = 0.36s\n",
      "[BernoulliRBM] Iteration 82, pseudo-likelihood = -96.08, time = 0.35s\n",
      "[BernoulliRBM] Iteration 83, pseudo-likelihood = -96.15, time = 0.35s\n",
      "[BernoulliRBM] Iteration 84, pseudo-likelihood = -95.91, time = 0.34s\n",
      "[BernoulliRBM] Iteration 85, pseudo-likelihood = -96.64, time = 0.33s\n",
      "[BernoulliRBM] Iteration 86, pseudo-likelihood = -96.37, time = 0.35s\n",
      "[BernoulliRBM] Iteration 87, pseudo-likelihood = -95.80, time = 0.34s\n",
      "[BernoulliRBM] Iteration 88, pseudo-likelihood = -95.73, time = 0.35s\n",
      "[BernoulliRBM] Iteration 89, pseudo-likelihood = -95.41, time = 0.35s\n",
      "[BernoulliRBM] Iteration 90, pseudo-likelihood = -95.62, time = 0.33s\n",
      "[BernoulliRBM] Iteration 91, pseudo-likelihood = -94.43, time = 0.33s\n",
      "[BernoulliRBM] Iteration 92, pseudo-likelihood = -94.71, time = 0.31s\n",
      "[BernoulliRBM] Iteration 93, pseudo-likelihood = -95.53, time = 0.33s\n",
      "[BernoulliRBM] Iteration 94, pseudo-likelihood = -94.39, time = 0.34s\n",
      "[BernoulliRBM] Iteration 95, pseudo-likelihood = -93.47, time = 0.35s\n",
      "[BernoulliRBM] Iteration 96, pseudo-likelihood = -93.88, time = 0.34s\n",
      "[BernoulliRBM] Iteration 97, pseudo-likelihood = -94.05, time = 0.35s\n",
      "[BernoulliRBM] Iteration 98, pseudo-likelihood = -93.15, time = 0.34s\n",
      "[BernoulliRBM] Iteration 99, pseudo-likelihood = -93.17, time = 0.33s\n",
      "[BernoulliRBM] Iteration 100, pseudo-likelihood = -92.65, time = 0.34s\n",
      "[BernoulliRBM] Iteration 101, pseudo-likelihood = -92.26, time = 0.33s\n",
      "[BernoulliRBM] Iteration 102, pseudo-likelihood = -92.62, time = 0.34s\n",
      "[BernoulliRBM] Iteration 103, pseudo-likelihood = -93.57, time = 0.35s\n",
      "[BernoulliRBM] Iteration 104, pseudo-likelihood = -92.46, time = 0.35s\n",
      "[BernoulliRBM] Iteration 105, pseudo-likelihood = -92.80, time = 0.34s\n",
      "[BernoulliRBM] Iteration 106, pseudo-likelihood = -92.76, time = 0.36s\n",
      "[BernoulliRBM] Iteration 107, pseudo-likelihood = -92.68, time = 0.34s\n",
      "[BernoulliRBM] Iteration 108, pseudo-likelihood = -92.75, time = 0.35s\n",
      "[BernoulliRBM] Iteration 109, pseudo-likelihood = -91.95, time = 0.35s\n",
      "[BernoulliRBM] Iteration 110, pseudo-likelihood = -92.36, time = 0.35s\n",
      "[BernoulliRBM] Iteration 111, pseudo-likelihood = -92.99, time = 0.37s\n",
      "[BernoulliRBM] Iteration 112, pseudo-likelihood = -93.04, time = 0.36s\n",
      "[BernoulliRBM] Iteration 113, pseudo-likelihood = -91.79, time = 0.36s\n",
      "[BernoulliRBM] Iteration 114, pseudo-likelihood = -92.29, time = 0.38s\n",
      "[BernoulliRBM] Iteration 115, pseudo-likelihood = -91.72, time = 0.36s\n",
      "[BernoulliRBM] Iteration 116, pseudo-likelihood = -91.44, time = 0.43s\n",
      "[BernoulliRBM] Iteration 117, pseudo-likelihood = -91.08, time = 0.47s\n",
      "[BernoulliRBM] Iteration 118, pseudo-likelihood = -91.31, time = 0.46s\n",
      "[BernoulliRBM] Iteration 119, pseudo-likelihood = -90.30, time = 0.46s\n",
      "[BernoulliRBM] Iteration 120, pseudo-likelihood = -91.56, time = 0.43s\n",
      "[BernoulliRBM] Iteration 121, pseudo-likelihood = -91.79, time = 0.38s\n",
      "[BernoulliRBM] Iteration 122, pseudo-likelihood = -91.93, time = 0.35s\n",
      "[BernoulliRBM] Iteration 123, pseudo-likelihood = -92.15, time = 0.34s\n",
      "[BernoulliRBM] Iteration 124, pseudo-likelihood = -90.82, time = 0.34s\n",
      "[BernoulliRBM] Iteration 125, pseudo-likelihood = -89.92, time = 0.36s\n",
      "[BernoulliRBM] Iteration 126, pseudo-likelihood = -89.73, time = 0.36s\n",
      "[BernoulliRBM] Iteration 127, pseudo-likelihood = -89.99, time = 0.43s\n",
      "[BernoulliRBM] Iteration 128, pseudo-likelihood = -89.54, time = 0.37s\n",
      "[BernoulliRBM] Iteration 129, pseudo-likelihood = -90.29, time = 0.35s\n",
      "[BernoulliRBM] Iteration 130, pseudo-likelihood = -90.56, time = 0.34s\n",
      "[BernoulliRBM] Iteration 131, pseudo-likelihood = -90.21, time = 0.36s\n",
      "[BernoulliRBM] Iteration 132, pseudo-likelihood = -89.75, time = 0.37s\n",
      "[BernoulliRBM] Iteration 133, pseudo-likelihood = -89.16, time = 0.37s\n",
      "[BernoulliRBM] Iteration 134, pseudo-likelihood = -89.80, time = 0.41s\n",
      "[BernoulliRBM] Iteration 135, pseudo-likelihood = -89.48, time = 0.45s\n",
      "[BernoulliRBM] Iteration 136, pseudo-likelihood = -89.32, time = 0.39s\n",
      "[BernoulliRBM] Iteration 137, pseudo-likelihood = -89.98, time = 0.37s\n",
      "[BernoulliRBM] Iteration 138, pseudo-likelihood = -90.33, time = 0.34s\n",
      "[BernoulliRBM] Iteration 139, pseudo-likelihood = -90.83, time = 0.32s\n",
      "[BernoulliRBM] Iteration 140, pseudo-likelihood = -90.05, time = 0.36s\n",
      "[BernoulliRBM] Iteration 141, pseudo-likelihood = -89.89, time = 0.34s\n",
      "[BernoulliRBM] Iteration 142, pseudo-likelihood = -90.16, time = 0.35s\n",
      "[BernoulliRBM] Iteration 143, pseudo-likelihood = -88.83, time = 0.36s\n",
      "[BernoulliRBM] Iteration 144, pseudo-likelihood = -89.53, time = 0.37s\n",
      "[BernoulliRBM] Iteration 145, pseudo-likelihood = -88.60, time = 0.37s\n",
      "[BernoulliRBM] Iteration 146, pseudo-likelihood = -90.28, time = 0.34s\n",
      "[BernoulliRBM] Iteration 147, pseudo-likelihood = -89.16, time = 0.37s\n",
      "[BernoulliRBM] Iteration 148, pseudo-likelihood = -88.43, time = 0.37s\n",
      "[BernoulliRBM] Iteration 149, pseudo-likelihood = -88.33, time = 0.37s\n",
      "[BernoulliRBM] Iteration 150, pseudo-likelihood = -89.04, time = 0.40s\n",
      "Training completed in 54.67 secs\n"
     ]
    }
   ],
   "source": [
    "# Train RBM\n",
    "start_time = time.time()\n",
    "rbm.fit(X_train)\n",
    "training_time = time.time() - start_time\n",
    "print(f\"Training completed in {training_time:.2f} secs\")"
   ]
  },
  {
   "cell_type": "code",
   "execution_count": 45,
   "id": "540e6c81-71cf-4858-ad15-21ef624851f6",
   "metadata": {},
   "outputs": [
    {
     "data": {
      "image/png": "[encoded data removed]",
      "text/plain": [
       "<Figure size 1500x300 with 30 Axes>"
      ]
     },
     "metadata": {},
     "output_type": "display_data"
    }
   ],
   "source": [
    "# Generating samples\n",
    "def generate_samples(rbm, n_samples = 30, n_gibbs_steps = 20):\n",
    "    random_data = np.random.rand(n_samples, rbm.components_.shape[1]) # random init. of visible nodes\n",
    "    v = (random_data > 0.5).astype(np.float32)\n",
    "\n",
    "    for step in range(n_gibbs_steps):\n",
    "        v = rbm.gibbs(v)\n",
    "    \n",
    "    return v\n",
    "\n",
    "\n",
    "# Generate samples\n",
    "samples = generate_samples(rbm, n_samples=30, n_gibbs_steps=100)\n",
    "\n",
    "#Plot\n",
    "fig, axes = plt.subplots(1, 30, figsize=(15,3))\n",
    "for i, ax in enumerate(axes):\n",
    "    ax.imshow(samples[i].reshape(28, 28), cmap='gray')\n",
    "    ax.axis('off')\n",
    "plt.tight_layout()\n",
    "plt.show()"
   ]
  },
  {
   "cell_type": "code",
   "execution_count": 14,
   "id": "1b11c052-feb1-4ba9-b6ce-45557accdde0",
   "metadata": {},
   "outputs": [
    {
     "name": "stdout",
     "output_type": "stream",
     "text": [
      "No. of hidden units: 64\n",
      "Training score (pseudo-likelihood): -56.0463\n",
      "Test score (pseudo-likelihood): -55.2335\n"
     ]
    }
   ],
   "source": [
    "# stats\n",
    "print(f\"No. of hidden units: {rbm.n_components}\")\n",
    "print(f\"Training score (pseudo-likelihood): {rbm.score_samples(X_train[:1000]).mean():.4f}\")\n",
    "print(f\"Test score (pseudo-likelihood): {rbm.score_samples(X_test[:1000]).mean():.4f}\")"
   ]
  },
  {
   "cell_type": "code",
   "execution_count": 15,
   "id": "7e58d73e-c2ef-4ade-8085-43e6e6803d1c",
   "metadata": {},
   "outputs": [],
   "source": [
    "# start with gibbs(v) with 0s and 1s. Run gibbs a bunch of times/multiple loops. update nodes multiple times."
   ]
  }
 ],
 "metadata": {
  "kernelspec": {
   "display_name": "PY",
   "language": "python",
   "name": "python3"
  },
  "language_info": {
   "codemirror_mode": {
    "name": "ipython",
    "version": 3
   },
   "file_extension": ".py",
   "mimetype": "text/x-python",
   "name": "python",
   "nbconvert_exporter": "python",
   "pygments_lexer": "ipython3",
   "version": "3.12.9"
  }
 },
 "nbformat": 4,
 "nbformat_minor": 5
}
